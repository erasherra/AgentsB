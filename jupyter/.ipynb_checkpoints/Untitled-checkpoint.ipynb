{
 "cells": [
  {
   "cell_type": "code",
   "execution_count": null,
   "id": "c6d785c8-1bf4-4c5b-a20c-22904828d94e",
   "metadata": {},
   "outputs": [],
   "source": [
    "[{\"id\":\"asd\",\"type\":\"customNode\",\"position\":{\"x\":300,\"y\":100},\"data\":{\"assigned\":{\"label\":\"1\",\"customType\":\"INPUT\"}},\"measured\":{\"width\":200,\"height\":50}},{\"id\":\"asd2\",\"type\":\"customNode\",\"position\":{\"x\":446,\"y\":190},\"data\":{\"assigned\":{\"label\":\"2\",\"customType\":\"AGENT\",\"customName\":\"something\",\"customConfig\":{\"system_prompt\":\"You are a...\"}}},\"measured\":{\"width\":200,\"height\":50},\"selected\":false,\"dragging\":false},{\"id\":\"asd3\",\"type\":\"customNode\",\"position\":{\"x\":400,\"y\":300},\"data\":{\"assigned\":{\"label\":\"3\",\"customType\":\"RAG\"}},\"measured\":{\"width\":200,\"height\":50}},{\"id\":\"1\",\"type\":\"customNode\",\"data\":{\"assigned\":{\"label\":\"asd\",\"customName\":\"asd\",\"customType\":\"AGENT\",\"customConfig\":{\"system_prompt\":\"asd\"}},\"functions\":{},\"llm\":{\"selected\":\"OLLAMA\"}},\"position\":{\"x\":733,\"y\":136},\"measured\":{\"width\":200,\"height\":50},\"selected\":false,\"dragging\":false},{\"id\":\"2\",\"type\":\"customNode\",\"data\":{\"assigned\":{\"label\":\"asd2\",\"customName\":\"asd2\",\"customType\":\"RAG\",\"customConfig\":{\"system_prompt\":\"asdsad\",\"sources\":[{\"source\":\"asd\",\"type\":\"TXT\"},{\"source\":\"asdasd\",\"type\":\"URL\"},{\"source\":\"asd234\",\"type\":\"PDF\"},{\"source\":\"\",\"type\":\"TXT\"}]}},\"functions\":{},\"llm\":{\"selected\":\"GPT\"}},\"position\":{\"x\":754,\"y\":259},\"measured\":{\"width\":200,\"height\":50},\"selected\":false,\"dragging\":false},{\"id\":\"3\",\"type\":\"customNode\",\"data\":{\"assigned\":{\"label\":\"asd123\",\"customName\":\"asd123\",\"customType\":\"AGENT\",\"customConfig\":{\"system_prompt\":\"asd1234\"}},\"functions\":{},\"llm\":{\"selected\":\"Empty\"}},\"position\":{\"x\":1004,\"y\":186},\"measured\":{\"width\":200,\"height\":50},\"selected\":false,\"dragging\":false}]"
   ]
  },
  {
   "cell_type": "code",
   "execution_count": null,
   "id": "a5e1e91a-1fb8-45ca-b631-0d5ad9544ef7",
   "metadata": {},
   "outputs": [],
   "source": [
    "[{\"id\":\"easd-asd2\",\"source\":\"asd\",\"target\":\"asd2\"},{\"source\":\"asd2\",\"target\":\"1\",\"id\":\"xy-edge__asd2-1\"},{\"source\":\"asd2\",\"target\":\"2\",\"id\":\"xy-edge__asd2-2\"},{\"source\":\"1\",\"target\":\"3\",\"id\":\"xy-edge__1-3\"},{\"source\":\"2\",\"target\":\"3\",\"id\":\"xy-edge__2-3\"}]"
   ]
  },
  {
   "cell_type": "code",
   "execution_count": 2,
   "id": "360793d5-bc4f-4eb3-bb7e-e0973ed09dee",
   "metadata": {},
   "outputs": [],
   "source": [
    "scenario = {\n",
    "  \"name\": \"Test\",\n",
    "  \"nodes\": [\n",
    "    {\"id\": \"1\", \"assigned\": {\"label\": \"asd\", \"customName\": \"asd\", \"customType\": \"AGENT\", \"customConfig\": {\"system_prompt\": \"asd\"}}, \"llm\": {\"selected\": \"OLLAMA\"}},\n",
    "    {\"id\": \"2\", \"assigned\": {\"label\": \"asd2\", \"customName\": \"asd2\", \"customType\": \"AGENT\", \"customConfig\": {\"system_prompt\": \"asd2\"}}, \"llm\": {\"selected\": \"OLLAMA\"}},\n",
    "    {\"id\": \"3\", \"assigned\": {\"label\": \"asd3\", \"customName\": \"asd3\", \"customType\": \"RAG\", \"customConfig\": {\"system_prompt\": \"asd3\", \"sources\": [{\"source\": \"asd\", \"type\": \"TXT\"}, {\"source\": \"asd\", \"type\": \"PDF\"}, {\"source\": \"asd\", \"type\": \"URL\"}, {\"source\": \"\", \"type\": \"TXT\"}]}}, \"llm\": {\"selected\": \"GPT\"}},\n",
    "    {\"id\": \"4\", \"assigned\": {\"label\": \"asd2.5\", \"customName\": \"asd2.5\", \"customType\": \"AGENT\", \"customConfig\": {\"system_prompt\": \"asd2.5\"}}, \"llm\": {\"selected\": \"GPT\"}}\n",
    "  ],\n",
    "  \"edges\": [\n",
    "    {\"source\": \"1\", \"target\": \"2\", \"id\": \"xy-edge__1-2\"},\n",
    "    {\"source\": \"2\", \"target\": \"3\", \"id\": \"xy-edge__2-3\"},\n",
    "    {\"source\": \"1\", \"target\": \"4\", \"id\": \"xy-edge__1-4\"},\n",
    "    {\"source\": \"4\", \"target\": \"3\", \"id\": \"xy-edge__4-3\"}\n",
    "  ]\n",
    "}"
   ]
  },
  {
   "cell_type": "code",
   "execution_count": 8,
   "id": "753e6998-c1dc-445f-b982-6bb21e9d83c6",
   "metadata": {},
   "outputs": [
    {
     "ename": "KeyError",
     "evalue": "'name'",
     "output_type": "error",
     "traceback": [
      "\u001b[1;31m---------------------------------------------------------------------------\u001b[0m",
      "\u001b[1;31mKeyError\u001b[0m                                  Traceback (most recent call last)",
      "Cell \u001b[1;32mIn[8], line 1\u001b[0m\n\u001b[1;32m----> 1\u001b[0m \u001b[38;5;28mprint\u001b[39m(scenario[\u001b[38;5;124m\"\u001b[39m\u001b[38;5;124mname\u001b[39m\u001b[38;5;124m\"\u001b[39m])\n",
      "\u001b[1;31mKeyError\u001b[0m: 'name'"
     ]
    }
   ],
   "source": [
    "print(scenario[\"name\"])"
   ]
  },
  {
   "cell_type": "markdown",
   "id": "f942bd7f-7d6e-40e5-9624-2699c890f6c0",
   "metadata": {},
   "source": [
    "### Ollama with custom agent"
   ]
  },
  {
   "cell_type": "code",
   "execution_count": 9,
   "id": "53dd8578-8102-45bb-a1ef-462ccbcb63cc",
   "metadata": {},
   "outputs": [
    {
     "ename": "ModuleNotFoundError",
     "evalue": "No module named 'langchain_core'",
     "output_type": "error",
     "traceback": [
      "\u001b[1;31m---------------------------------------------------------------------------\u001b[0m",
      "\u001b[1;31mModuleNotFoundError\u001b[0m                       Traceback (most recent call last)",
      "Cell \u001b[1;32mIn[9], line 1\u001b[0m\n\u001b[1;32m----> 1\u001b[0m \u001b[38;5;28;01mfrom\u001b[39;00m \u001b[38;5;21;01mlangchain_core\u001b[39;00m\u001b[38;5;21;01m.\u001b[39;00m\u001b[38;5;21;01mprompts\u001b[39;00m \u001b[38;5;28;01mimport\u001b[39;00m ChatPromptTemplate\n\u001b[0;32m      2\u001b[0m \u001b[38;5;28;01mfrom\u001b[39;00m \u001b[38;5;21;01mlangchain_ollama\u001b[39;00m\u001b[38;5;21;01m.\u001b[39;00m\u001b[38;5;21;01mllms\u001b[39;00m \u001b[38;5;28;01mimport\u001b[39;00m OllamaLLM\n\u001b[0;32m      4\u001b[0m template \u001b[38;5;241m=\u001b[39m \u001b[38;5;124m\"\"\"\u001b[39m\u001b[38;5;124mQuestion: \u001b[39m\u001b[38;5;132;01m{question}\u001b[39;00m\n\u001b[0;32m      5\u001b[0m \n\u001b[0;32m      6\u001b[0m \u001b[38;5;124mAnswer: Let\u001b[39m\u001b[38;5;124m'\u001b[39m\u001b[38;5;124ms think step by step.\u001b[39m\u001b[38;5;124m\"\"\"\u001b[39m\n",
      "\u001b[1;31mModuleNotFoundError\u001b[0m: No module named 'langchain_core'"
     ]
    }
   ],
   "source": [
    "from langchain_core.prompts import ChatPromptTemplate\n",
    "from langchain_ollama.llms import OllamaLLM\n",
    "\n",
    "template = \"\"\"Question: {question}\n",
    "\n",
    "Answer: Let's think step by step.\"\"\"\n",
    "\n",
    "prompt = ChatPromptTemplate.from_template(template)\n",
    "\n",
    "model = OllamaLLM(model=\"llama3.1\")\n",
    "\n",
    "chain = prompt | model\n",
    "\n",
    "chain.invoke({\"question\": \"What is LangChain?\"})"
   ]
  },
  {
   "cell_type": "markdown",
   "id": "5a96a25b-6db6-471a-bd48-4ec8bbeeec98",
   "metadata": {},
   "source": [
    "### GPT with custom agent (without tools)"
   ]
  },
  {
   "cell_type": "code",
   "execution_count": null,
   "id": "9ec3510e-9d1f-4a07-803e-932aa62a56e1",
   "metadata": {},
   "outputs": [],
   "source": [
    "from langchain_openai import ChatOpenAI\n",
    "\n",
    "llm = ChatOpenAI(model=\"gpt-3.5-turbo\", temperature=0)"
   ]
  },
  {
   "cell_type": "code",
   "execution_count": null,
   "id": "b4fafe96-c450-4661-924f-5ece85ffe0ae",
   "metadata": {},
   "outputs": [],
   "source": [
    "from langchain_core.prompts import ChatPromptTemplate, MessagesPlaceholder\n",
    "\n",
    "prompt = ChatPromptTemplate.from_messages(\n",
    "    [\n",
    "        (\n",
    "            \"system\",\n",
    "            \"You are very powerful assistant, but don't know current events\",\n",
    "        ),\n",
    "        (\"user\", \"{input}\"),\n",
    "        MessagesPlaceholder(variable_name=\"agent_scratchpad\"),\n",
    "    ]\n",
    ")"
   ]
  },
  {
   "cell_type": "code",
   "execution_count": null,
   "id": "6c7bb7f0-72a8-4219-9f01-02591100b126",
   "metadata": {},
   "outputs": [],
   "source": [
    "from langchain.agents.format_scratchpad.openai_tools import (\n",
    "    format_to_openai_tool_messages,\n",
    ")\n",
    "from langchain.agents.output_parsers.openai_tools import OpenAIToolsAgentOutputParser\n",
    "\n",
    "agent = (\n",
    "    {\n",
    "        \"input\": lambda x: x[\"input\"],\n",
    "        \"agent_scratchpad\": lambda x: format_to_openai_tool_messages(\n",
    "            x[\"intermediate_steps\"]\n",
    "        ),\n",
    "    }\n",
    "    | prompt\n",
    "    | llm_with_tools\n",
    "    | OpenAIToolsAgentOutputParser()\n",
    ")"
   ]
  },
  {
   "cell_type": "code",
   "execution_count": null,
   "id": "d4c2d3b0-7810-4dbf-ac5f-8e00b8069774",
   "metadata": {},
   "outputs": [],
   "source": [
    "from langchain.agents import AgentExecutor\n",
    "\n",
    "agent_executor = AgentExecutor(agent=agent, tools=tools, verbose=True)"
   ]
  },
  {
   "cell_type": "code",
   "execution_count": null,
   "id": "efda80dc-c27e-4967-acb1-e409ed1e362b",
   "metadata": {},
   "outputs": [],
   "source": [
    "#Use created agent\n",
    "list(agent_executor.stream({\"input\": \"How many letters in the word eudca\"}))"
   ]
  },
  {
   "cell_type": "code",
   "execution_count": null,
   "id": "77bb8d8c-3d76-482d-97e7-64f082b06b26",
   "metadata": {},
   "outputs": [],
   "source": [
    "#use just the model\n",
    "llm.invoke(\"How many letters in the word educa\")"
   ]
  },
  {
   "cell_type": "markdown",
   "id": "d0b92ee9-b683-4a28-b8e1-22d19e11c167",
   "metadata": {},
   "source": [
    "### Entry "
   ]
  },
  {
   "cell_type": "code",
   "execution_count": 1,
   "id": "12d54223-4328-4d28-bad9-1496d783406b",
   "metadata": {},
   "outputs": [
    {
     "name": "stdout",
     "output_type": "stream",
     "text": [
      "Hello, world!\n"
     ]
    }
   ],
   "source": [
    "if __name__ == \"__main__\":\n",
    "    print(\"Hello, world!\")"
   ]
  }
 ],
 "metadata": {
  "kernelspec": {
   "display_name": "Python 3 (ipykernel)",
   "language": "python",
   "name": "python3"
  },
  "language_info": {
   "codemirror_mode": {
    "name": "ipython",
    "version": 3
   },
   "file_extension": ".py",
   "mimetype": "text/x-python",
   "name": "python",
   "nbconvert_exporter": "python",
   "pygments_lexer": "ipython3",
   "version": "3.11.10"
  }
 },
 "nbformat": 4,
 "nbformat_minor": 5
}
